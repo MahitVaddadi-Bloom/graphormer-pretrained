{
 "cells": [
  {
   "cell_type": "code",
   "execution_count": 1,
   "metadata": {},
   "outputs": [],
   "source": [
    "%load_ext autoreload\n",
    "%autoreload 2"
   ]
  },
  {
   "cell_type": "code",
   "execution_count": 2,
   "metadata": {},
   "outputs": [],
   "source": [
    "import datamol as dm\n",
    "from graphormer_pretrained.embeddings import GraphormerEmbeddingsExtractor"
   ]
  },
  {
   "cell_type": "code",
   "execution_count": 3,
   "metadata": {},
   "outputs": [
    {
     "ename": "ImportError",
     "evalue": "Please install gcsfs to access Google Storage",
     "output_type": "error",
     "traceback": [
      "\u001b[0;31m---------------------------------------------------------------------------\u001b[0m",
      "\u001b[0;31mImportError\u001b[0m                               Traceback (most recent call last)",
      "File \u001b[0;32m~/.miniconda/envs/graphormer/lib/python3.10/site-packages/fsspec/registry.py:212\u001b[0m, in \u001b[0;36mget_filesystem_class\u001b[0;34m(protocol)\u001b[0m\n\u001b[1;32m    211\u001b[0m \u001b[39mtry\u001b[39;00m:\n\u001b[0;32m--> 212\u001b[0m     register_implementation(protocol, _import_class(bit[\u001b[39m\"\u001b[39;49m\u001b[39mclass\u001b[39;49m\u001b[39m\"\u001b[39;49m]))\n\u001b[1;32m    213\u001b[0m \u001b[39mexcept\u001b[39;00m \u001b[39mImportError\u001b[39;00m \u001b[39mas\u001b[39;00m e:\n",
      "File \u001b[0;32m~/.miniconda/envs/graphormer/lib/python3.10/site-packages/fsspec/registry.py:235\u001b[0m, in \u001b[0;36m_import_class\u001b[0;34m(cls, minv)\u001b[0m\n\u001b[1;32m    234\u001b[0m mod, name \u001b[39m=\u001b[39m \u001b[39mcls\u001b[39m\u001b[39m.\u001b[39mrsplit(\u001b[39m\"\u001b[39m\u001b[39m.\u001b[39m\u001b[39m\"\u001b[39m, \u001b[39m1\u001b[39m)\n\u001b[0;32m--> 235\u001b[0m mod \u001b[39m=\u001b[39m importlib\u001b[39m.\u001b[39;49mimport_module(mod)\n\u001b[1;32m    236\u001b[0m \u001b[39mreturn\u001b[39;00m \u001b[39mgetattr\u001b[39m(mod, name)\n",
      "File \u001b[0;32m~/.miniconda/envs/graphormer/lib/python3.10/importlib/__init__.py:126\u001b[0m, in \u001b[0;36mimport_module\u001b[0;34m(name, package)\u001b[0m\n\u001b[1;32m    125\u001b[0m         level \u001b[39m+\u001b[39m\u001b[39m=\u001b[39m \u001b[39m1\u001b[39m\n\u001b[0;32m--> 126\u001b[0m \u001b[39mreturn\u001b[39;00m _bootstrap\u001b[39m.\u001b[39;49m_gcd_import(name[level:], package, level)\n",
      "File \u001b[0;32m<frozen importlib._bootstrap>:1050\u001b[0m, in \u001b[0;36m_gcd_import\u001b[0;34m(name, package, level)\u001b[0m\n",
      "File \u001b[0;32m<frozen importlib._bootstrap>:1027\u001b[0m, in \u001b[0;36m_find_and_load\u001b[0;34m(name, import_)\u001b[0m\n",
      "File \u001b[0;32m<frozen importlib._bootstrap>:1006\u001b[0m, in \u001b[0;36m_find_and_load_unlocked\u001b[0;34m(name, import_)\u001b[0m\n",
      "File \u001b[0;32m<frozen importlib._bootstrap>:688\u001b[0m, in \u001b[0;36m_load_unlocked\u001b[0;34m(spec)\u001b[0m\n",
      "File \u001b[0;32m<frozen importlib._bootstrap_external>:883\u001b[0m, in \u001b[0;36mexec_module\u001b[0;34m(self, module)\u001b[0m\n",
      "File \u001b[0;32m<frozen importlib._bootstrap>:241\u001b[0m, in \u001b[0;36m_call_with_frames_removed\u001b[0;34m(f, *args, **kwds)\u001b[0m\n",
      "File \u001b[0;32m~/.miniconda/envs/graphormer/lib/python3.10/site-packages/gcsfs/__init__.py:5\u001b[0m, in \u001b[0;36m<module>\u001b[0;34m\u001b[0m\n\u001b[1;32m      4\u001b[0m \u001b[39mdel\u001b[39;00m get_versions\n\u001b[0;32m----> 5\u001b[0m \u001b[39mfrom\u001b[39;00m \u001b[39m.\u001b[39;00m\u001b[39mcore\u001b[39;00m \u001b[39mimport\u001b[39;00m GCSFileSystem\n\u001b[1;32m      6\u001b[0m \u001b[39mfrom\u001b[39;00m \u001b[39m.\u001b[39;00m\u001b[39mmapping\u001b[39;00m \u001b[39mimport\u001b[39;00m GCSMap\n",
      "File \u001b[0;32m~/.miniconda/envs/graphormer/lib/python3.10/site-packages/gcsfs/core.py:26\u001b[0m, in \u001b[0;36m<module>\u001b[0;34m\u001b[0m\n\u001b[1;32m     25\u001b[0m \u001b[39mfrom\u001b[39;00m \u001b[39m.\u001b[39;00m\u001b[39mcheckers\u001b[39;00m \u001b[39mimport\u001b[39;00m get_consistency_checker\n\u001b[0;32m---> 26\u001b[0m \u001b[39mfrom\u001b[39;00m \u001b[39m.\u001b[39;00m\u001b[39mcredentials\u001b[39;00m \u001b[39mimport\u001b[39;00m GoogleCredentials\n\u001b[1;32m     27\u001b[0m \u001b[39mfrom\u001b[39;00m \u001b[39m.\u001b[39;00m\u001b[39mretry\u001b[39;00m \u001b[39mimport\u001b[39;00m retry_request, validate_response\n",
      "File \u001b[0;32m~/.miniconda/envs/graphormer/lib/python3.10/site-packages/gcsfs/credentials.py:17\u001b[0m, in \u001b[0;36m<module>\u001b[0;34m\u001b[0m\n\u001b[1;32m     16\u001b[0m \u001b[39mfrom\u001b[39;00m \u001b[39mgoogle\u001b[39;00m\u001b[39m.\u001b[39;00m\u001b[39moauth2\u001b[39;00m\u001b[39m.\u001b[39;00m\u001b[39mcredentials\u001b[39;00m \u001b[39mimport\u001b[39;00m Credentials\n\u001b[0;32m---> 17\u001b[0m \u001b[39mfrom\u001b[39;00m \u001b[39mgoogle_auth_oauthlib\u001b[39;00m\u001b[39m.\u001b[39;00m\u001b[39mflow\u001b[39;00m \u001b[39mimport\u001b[39;00m InstalledAppFlow\n\u001b[1;32m     19\u001b[0m logger \u001b[39m=\u001b[39m logging\u001b[39m.\u001b[39mgetLogger(\u001b[39m\"\u001b[39m\u001b[39mgcsfs.credentials\u001b[39m\u001b[39m\"\u001b[39m)\n",
      "File \u001b[0;32m~/.miniconda/envs/graphormer/lib/python3.10/site-packages/google_auth_oauthlib/__init__.py:21\u001b[0m, in \u001b[0;36m<module>\u001b[0;34m\u001b[0m\n\u001b[1;32m     15\u001b[0m \u001b[39m\"\"\"oauthlib integration for Google Auth\u001b[39;00m\n\u001b[1;32m     16\u001b[0m \n\u001b[1;32m     17\u001b[0m \u001b[39mThis library provides `oauthlib <https://oauthlib.readthedocs.io/>`__\u001b[39;00m\n\u001b[1;32m     18\u001b[0m \u001b[39mintegration with `google-auth <https://google-auth.readthedocs.io/>`__.\u001b[39;00m\n\u001b[1;32m     19\u001b[0m \u001b[39m\"\"\"\u001b[39;00m\n\u001b[0;32m---> 21\u001b[0m \u001b[39mfrom\u001b[39;00m \u001b[39m.\u001b[39;00m\u001b[39minteractive\u001b[39;00m \u001b[39mimport\u001b[39;00m get_user_credentials\n\u001b[1;32m     23\u001b[0m __all__ \u001b[39m=\u001b[39m [\u001b[39m\"\u001b[39m\u001b[39mget_user_credentials\u001b[39m\u001b[39m\"\u001b[39m]\n",
      "File \u001b[0;32m~/.miniconda/envs/graphormer/lib/python3.10/site-packages/google_auth_oauthlib/interactive.py:27\u001b[0m, in \u001b[0;36m<module>\u001b[0;34m\u001b[0m\n\u001b[1;32m     25\u001b[0m \u001b[39mimport\u001b[39;00m \u001b[39msocket\u001b[39;00m\n\u001b[0;32m---> 27\u001b[0m \u001b[39mimport\u001b[39;00m \u001b[39mgoogle_auth_oauthlib\u001b[39;00m\u001b[39m.\u001b[39;00m\u001b[39mflow\u001b[39;00m\n\u001b[1;32m     30\u001b[0m LOCALHOST \u001b[39m=\u001b[39m \u001b[39m\"\u001b[39m\u001b[39mlocalhost\u001b[39m\u001b[39m\"\u001b[39m\n",
      "File \u001b[0;32m~/.miniconda/envs/graphormer/lib/python3.10/site-packages/google_auth_oauthlib/flow.py:68\u001b[0m, in \u001b[0;36m<module>\u001b[0;34m\u001b[0m\n\u001b[1;32m     66\u001b[0m \u001b[39mimport\u001b[39;00m \u001b[39mgoogle\u001b[39;00m\u001b[39m.\u001b[39;00m\u001b[39moauth2\u001b[39;00m\u001b[39m.\u001b[39;00m\u001b[39mcredentials\u001b[39;00m\n\u001b[0;32m---> 68\u001b[0m \u001b[39mimport\u001b[39;00m \u001b[39mgoogle_auth_oauthlib\u001b[39;00m\u001b[39m.\u001b[39;00m\u001b[39mhelpers\u001b[39;00m\n\u001b[1;32m     71\u001b[0m _LOGGER \u001b[39m=\u001b[39m logging\u001b[39m.\u001b[39mgetLogger(\u001b[39m__name__\u001b[39m)\n",
      "File \u001b[0;32m~/.miniconda/envs/graphormer/lib/python3.10/site-packages/google_auth_oauthlib/helpers.py:27\u001b[0m, in \u001b[0;36m<module>\u001b[0;34m\u001b[0m\n\u001b[1;32m     25\u001b[0m \u001b[39mimport\u001b[39;00m \u001b[39mjson\u001b[39;00m\n\u001b[0;32m---> 27\u001b[0m \u001b[39mfrom\u001b[39;00m \u001b[39mgoogle\u001b[39;00m\u001b[39m.\u001b[39;00m\u001b[39mauth\u001b[39;00m \u001b[39mimport\u001b[39;00m external_account_authorized_user\n\u001b[1;32m     28\u001b[0m \u001b[39mimport\u001b[39;00m \u001b[39mgoogle\u001b[39;00m\u001b[39m.\u001b[39;00m\u001b[39moauth2\u001b[39;00m\u001b[39m.\u001b[39;00m\u001b[39mcredentials\u001b[39;00m\n",
      "\u001b[0;31mImportError\u001b[0m: cannot import name 'external_account_authorized_user' from 'google.auth' (/Users/manu/.miniconda/envs/graphormer/lib/python3.10/site-packages/google/auth/__init__.py)",
      "\nThe above exception was the direct cause of the following exception:\n",
      "\u001b[0;31mImportError\u001b[0m                               Traceback (most recent call last)",
      "\u001b[1;32m/Users/manu/Code/graphormer-pretrained/notebooks/dev.ipynb Cell 3\u001b[0m in \u001b[0;36m<cell line: 1>\u001b[0;34m()\u001b[0m\n\u001b[0;32m----> <a href='vscode-notebook-cell:/Users/manu/Code/graphormer-pretrained/notebooks/dev.ipynb#W2sZmlsZQ%3D%3D?line=0'>1</a>\u001b[0m model \u001b[39m=\u001b[39m GraphormerEmbeddingsExtractor()\n",
      "File \u001b[0;32m~/Code/graphormer-pretrained/graphormer_pretrained/embeddings.py:31\u001b[0m, in \u001b[0;36mGraphormerEmbeddingsExtractor.__init__\u001b[0;34m(self, pretrained_name, max_nodes)\u001b[0m\n\u001b[1;32m     29\u001b[0m \u001b[39mself\u001b[39m\u001b[39m.\u001b[39mencoder \u001b[39m=\u001b[39m \u001b[39mNone\u001b[39;00m\n\u001b[1;32m     30\u001b[0m \u001b[39mself\u001b[39m\u001b[39m.\u001b[39mmodel \u001b[39m=\u001b[39m \u001b[39mNone\u001b[39;00m\n\u001b[0;32m---> 31\u001b[0m \u001b[39mself\u001b[39;49m\u001b[39m.\u001b[39;49m_load()\n",
      "File \u001b[0;32m~/Code/graphormer-pretrained/graphormer_pretrained/embeddings.py:39\u001b[0m, in \u001b[0;36mGraphormerEmbeddingsExtractor._load\u001b[0;34m(self)\u001b[0m\n\u001b[1;32m     37\u001b[0m     \u001b[39mself\u001b[39m\u001b[39m.\u001b[39mconfig\u001b[39m.\u001b[39mmax_nodes \u001b[39m=\u001b[39m \u001b[39mself\u001b[39m\u001b[39m.\u001b[39mconfig\u001b[39m.\u001b[39mtokens_per_sample\n\u001b[1;32m     38\u001b[0m \u001b[39mself\u001b[39m\u001b[39m.\u001b[39mencoder \u001b[39m=\u001b[39m GraphormerEncoder(\u001b[39mself\u001b[39m\u001b[39m.\u001b[39mconfig)\n\u001b[0;32m---> 39\u001b[0m \u001b[39mself\u001b[39m\u001b[39m.\u001b[39mmodel \u001b[39m=\u001b[39m GraphormerModel(\u001b[39mself\u001b[39;49m\u001b[39m.\u001b[39;49mconfig, \u001b[39mself\u001b[39;49m\u001b[39m.\u001b[39;49mencoder)\n\u001b[1;32m     40\u001b[0m \u001b[39mself\u001b[39m\u001b[39m.\u001b[39mmodel\u001b[39m.\u001b[39meval()\n",
      "File \u001b[0;32m~/Code/graphormer-pretrained/graphormer_pretrained/models/graphormer.py:42\u001b[0m, in \u001b[0;36mGraphormerModel.__init__\u001b[0;34m(self, args, encoder)\u001b[0m\n\u001b[1;32m     40\u001b[0m \u001b[39mself\u001b[39m\u001b[39m.\u001b[39mencoder_embed_dim \u001b[39m=\u001b[39m args\u001b[39m.\u001b[39mencoder_embed_dim\n\u001b[1;32m     41\u001b[0m \u001b[39mif\u001b[39;00m args\u001b[39m.\u001b[39mpretrained_model_name \u001b[39mand\u001b[39;00m args\u001b[39m.\u001b[39mpretrained_model_name \u001b[39m!=\u001b[39m \u001b[39m\"\u001b[39m\u001b[39mnone\u001b[39m\u001b[39m\"\u001b[39m:\n\u001b[0;32m---> 42\u001b[0m     \u001b[39mself\u001b[39m\u001b[39m.\u001b[39mload_state_dict(load_pretrained_model(args\u001b[39m.\u001b[39;49mpretrained_model_name))\n\u001b[1;32m     43\u001b[0m     \u001b[39mif\u001b[39;00m \u001b[39mnot\u001b[39;00m args\u001b[39m.\u001b[39mload_pretrained_model_output_layer:\n\u001b[1;32m     44\u001b[0m         \u001b[39mself\u001b[39m\u001b[39m.\u001b[39mencoder\u001b[39m.\u001b[39mreset_output_layer_parameters()\n",
      "File \u001b[0;32m~/Code/graphormer-pretrained/graphormer_pretrained/utils/loader.py:108\u001b[0m, in \u001b[0;36mload_pretrained_model\u001b[0;34m(pretrained_model_name, verbose)\u001b[0m\n\u001b[1;32m    104\u001b[0m     logger\u001b[39m.\u001b[39mwarning(\n\u001b[1;32m    105\u001b[0m         \u001b[39mf\u001b[39m\u001b[39m\"\u001b[39m\u001b[39mPretrained model: \u001b[39m\u001b[39m{\u001b[39;00mpretrained_model_name\u001b[39m}\u001b[39;00m\u001b[39m isnot a recognized Graphormer pretrained model !\u001b[39m\u001b[39m\"\u001b[39m\n\u001b[1;32m    106\u001b[0m     )\n\u001b[1;32m    107\u001b[0m \u001b[39mif\u001b[39;00m \u001b[39mnot\u001b[39;00m dist\u001b[39m.\u001b[39mis_initialized():\n\u001b[0;32m--> 108\u001b[0m     \u001b[39mreturn\u001b[39;00m load_state_dict_from_fsspec_url(pretrained_model_path, progress\u001b[39m=\u001b[39;49m\u001b[39mTrue\u001b[39;49;00m)[\n\u001b[1;32m    109\u001b[0m         \u001b[39m\"\u001b[39m\u001b[39mmodel\u001b[39m\u001b[39m\"\u001b[39m\n\u001b[1;32m    110\u001b[0m     ]\n\u001b[1;32m    111\u001b[0m \u001b[39melse\u001b[39;00m:\n\u001b[1;32m    112\u001b[0m     pretrained_model \u001b[39m=\u001b[39m load_state_dict_from_fsspec_url(\n\u001b[1;32m    113\u001b[0m         pretrained_model_path,\n\u001b[1;32m    114\u001b[0m         progress\u001b[39m=\u001b[39m\u001b[39mTrue\u001b[39;00m,\n\u001b[1;32m    115\u001b[0m         file_name\u001b[39m=\u001b[39m\u001b[39mf\u001b[39m\u001b[39m\"\u001b[39m\u001b[39m{\u001b[39;00mpretrained_model_name\u001b[39m}\u001b[39;00m\u001b[39m_\u001b[39m\u001b[39m{\u001b[39;00mdist\u001b[39m.\u001b[39mget_rank()\u001b[39m}\u001b[39;00m\u001b[39m\"\u001b[39m,\n\u001b[1;32m    116\u001b[0m     )[\u001b[39m\"\u001b[39m\u001b[39mmodel\u001b[39m\u001b[39m\"\u001b[39m]\n",
      "File \u001b[0;32m~/Code/graphormer-pretrained/graphormer_pretrained/utils/loader.py:83\u001b[0m, in \u001b[0;36mload_state_dict_from_fsspec_url\u001b[0;34m(url, model_dir, map_location, progress, file_name)\u001b[0m\n\u001b[1;32m     79\u001b[0m     \u001b[39melse\u001b[39;00m:\n\u001b[1;32m     80\u001b[0m         \u001b[39m# Unexpected OSError, re-raise.\u001b[39;00m\n\u001b[1;32m     81\u001b[0m         \u001b[39mraise\u001b[39;00m\n\u001b[0;32m---> 83\u001b[0m filename \u001b[39m=\u001b[39m dm\u001b[39m.\u001b[39;49mfs\u001b[39m.\u001b[39;49mget_basename(url)\n\u001b[1;32m     84\u001b[0m \u001b[39mif\u001b[39;00m file_name \u001b[39mis\u001b[39;00m \u001b[39mnot\u001b[39;00m \u001b[39mNone\u001b[39;00m:\n\u001b[1;32m     85\u001b[0m     filename \u001b[39m=\u001b[39m file_name\n",
      "File \u001b[0;32m~/.miniconda/envs/graphormer/lib/python3.10/site-packages/datamol/utils/fs.py:67\u001b[0m, in \u001b[0;36mget_basename\u001b[0;34m(path)\u001b[0m\n\u001b[1;32m     61\u001b[0m \u001b[39m\u001b[39m\u001b[39m\"\"\"Get the basename of a file or a folder.\u001b[39;00m\n\u001b[1;32m     62\u001b[0m \n\u001b[1;32m     63\u001b[0m \u001b[39mArgs:\u001b[39;00m\n\u001b[1;32m     64\u001b[0m \u001b[39m    path: a path supported by `fsspec` such as local, s3, gcs, etc.\u001b[39;00m\n\u001b[1;32m     65\u001b[0m \u001b[39m\"\"\"\u001b[39;00m\n\u001b[1;32m     66\u001b[0m path \u001b[39m=\u001b[39m \u001b[39mstr\u001b[39m(path)\n\u001b[0;32m---> 67\u001b[0m mapper \u001b[39m=\u001b[39m get_mapper(path)\n\u001b[1;32m     68\u001b[0m clean_path \u001b[39m=\u001b[39m path\u001b[39m.\u001b[39mrstrip(mapper\u001b[39m.\u001b[39mfs\u001b[39m.\u001b[39msep)\n\u001b[1;32m     69\u001b[0m \u001b[39mreturn\u001b[39;00m \u001b[39mstr\u001b[39m(clean_path)\u001b[39m.\u001b[39msplit(mapper\u001b[39m.\u001b[39mfs\u001b[39m.\u001b[39msep)[\u001b[39m-\u001b[39m\u001b[39m1\u001b[39m]\n",
      "File \u001b[0;32m~/.miniconda/envs/graphormer/lib/python3.10/site-packages/datamol/utils/fs.py:57\u001b[0m, in \u001b[0;36mget_mapper\u001b[0;34m(path)\u001b[0m\n\u001b[1;32m     51\u001b[0m \u001b[39mdef\u001b[39;00m \u001b[39mget_mapper\u001b[39m(path: Union[\u001b[39mstr\u001b[39m, os\u001b[39m.\u001b[39mPathLike]):\n\u001b[1;32m     52\u001b[0m \u001b[39m    \u001b[39m\u001b[39m\"\"\"Get the fsspec mapper.\u001b[39;00m\n\u001b[1;32m     53\u001b[0m \n\u001b[1;32m     54\u001b[0m \u001b[39m    Args:\u001b[39;00m\n\u001b[1;32m     55\u001b[0m \u001b[39m        path: a path supported by `fsspec` such as local, s3, gcs, etc.\u001b[39;00m\n\u001b[1;32m     56\u001b[0m \u001b[39m    \"\"\"\u001b[39;00m\n\u001b[0;32m---> 57\u001b[0m     \u001b[39mreturn\u001b[39;00m fsspec\u001b[39m.\u001b[39;49mget_mapper(\u001b[39mstr\u001b[39;49m(path))\n",
      "File \u001b[0;32m~/.miniconda/envs/graphormer/lib/python3.10/site-packages/fsspec/mapping.py:237\u001b[0m, in \u001b[0;36mget_mapper\u001b[0;34m(url, check, create, missing_exceptions, alternate_root, **kwargs)\u001b[0m\n\u001b[1;32m    206\u001b[0m \u001b[39m\u001b[39m\u001b[39m\"\"\"Create key-value interface for given URL and options\u001b[39;00m\n\u001b[1;32m    207\u001b[0m \n\u001b[1;32m    208\u001b[0m \u001b[39mThe URL will be of the form \"protocol://location\" and point to the root\u001b[39;00m\n\u001b[0;32m   (...)\u001b[0m\n\u001b[1;32m    234\u001b[0m \u001b[39m``FSMap`` instance, the dict-like key-value store.\u001b[39;00m\n\u001b[1;32m    235\u001b[0m \u001b[39m\"\"\"\u001b[39;00m\n\u001b[1;32m    236\u001b[0m \u001b[39m# Removing protocol here - could defer to each open() on the backend\u001b[39;00m\n\u001b[0;32m--> 237\u001b[0m fs, urlpath \u001b[39m=\u001b[39m url_to_fs(url, \u001b[39m*\u001b[39;49m\u001b[39m*\u001b[39;49mkwargs)\n\u001b[1;32m    238\u001b[0m root \u001b[39m=\u001b[39m alternate_root \u001b[39mif\u001b[39;00m alternate_root \u001b[39mis\u001b[39;00m \u001b[39mnot\u001b[39;00m \u001b[39mNone\u001b[39;00m \u001b[39melse\u001b[39;00m urlpath\n\u001b[1;32m    239\u001b[0m \u001b[39mreturn\u001b[39;00m FSMap(root, fs, check, create, missing_exceptions\u001b[39m=\u001b[39mmissing_exceptions)\n",
      "File \u001b[0;32m~/.miniconda/envs/graphormer/lib/python3.10/site-packages/fsspec/core.py:353\u001b[0m, in \u001b[0;36murl_to_fs\u001b[0;34m(url, **kwargs)\u001b[0m\n\u001b[1;32m    333\u001b[0m \u001b[39mdef\u001b[39;00m \u001b[39murl_to_fs\u001b[39m(url, \u001b[39m*\u001b[39m\u001b[39m*\u001b[39mkwargs):\n\u001b[1;32m    334\u001b[0m \u001b[39m    \u001b[39m\u001b[39m\"\"\"\u001b[39;00m\n\u001b[1;32m    335\u001b[0m \u001b[39m    Turn fully-qualified and potentially chained URL into filesystem instance\u001b[39;00m\n\u001b[1;32m    336\u001b[0m \n\u001b[0;32m   (...)\u001b[0m\n\u001b[1;32m    351\u001b[0m \u001b[39m        The file-systems-specific URL for ``url``.\u001b[39;00m\n\u001b[1;32m    352\u001b[0m \u001b[39m    \"\"\"\u001b[39;00m\n\u001b[0;32m--> 353\u001b[0m     chain \u001b[39m=\u001b[39m _un_chain(url, kwargs)\n\u001b[1;32m    354\u001b[0m     inkwargs \u001b[39m=\u001b[39m {}\n\u001b[1;32m    355\u001b[0m     \u001b[39m# Reverse iterate the chain, creating a nested target_* structure\u001b[39;00m\n",
      "File \u001b[0;32m~/.miniconda/envs/graphormer/lib/python3.10/site-packages/fsspec/core.py:315\u001b[0m, in \u001b[0;36m_un_chain\u001b[0;34m(path, kwargs)\u001b[0m\n\u001b[1;32m    313\u001b[0m \u001b[39mfor\u001b[39;00m bit \u001b[39min\u001b[39;00m \u001b[39mreversed\u001b[39m(bits):\n\u001b[1;32m    314\u001b[0m     protocol \u001b[39m=\u001b[39m kwargs\u001b[39m.\u001b[39mpop(\u001b[39m\"\u001b[39m\u001b[39mprotocol\u001b[39m\u001b[39m\"\u001b[39m, \u001b[39mNone\u001b[39;00m) \u001b[39mor\u001b[39;00m split_protocol(bit)[\u001b[39m0\u001b[39m] \u001b[39mor\u001b[39;00m \u001b[39m\"\u001b[39m\u001b[39mfile\u001b[39m\u001b[39m\"\u001b[39m\n\u001b[0;32m--> 315\u001b[0m     \u001b[39mcls\u001b[39m \u001b[39m=\u001b[39m get_filesystem_class(protocol)\n\u001b[1;32m    316\u001b[0m     extra_kwargs \u001b[39m=\u001b[39m \u001b[39mcls\u001b[39m\u001b[39m.\u001b[39m_get_kwargs_from_urls(bit)\n\u001b[1;32m    317\u001b[0m     kws \u001b[39m=\u001b[39m kwargs\u001b[39m.\u001b[39mpop(protocol, {})\n",
      "File \u001b[0;32m~/.miniconda/envs/graphormer/lib/python3.10/site-packages/fsspec/registry.py:214\u001b[0m, in \u001b[0;36mget_filesystem_class\u001b[0;34m(protocol)\u001b[0m\n\u001b[1;32m    212\u001b[0m         register_implementation(protocol, _import_class(bit[\u001b[39m\"\u001b[39m\u001b[39mclass\u001b[39m\u001b[39m\"\u001b[39m]))\n\u001b[1;32m    213\u001b[0m     \u001b[39mexcept\u001b[39;00m \u001b[39mImportError\u001b[39;00m \u001b[39mas\u001b[39;00m e:\n\u001b[0;32m--> 214\u001b[0m         \u001b[39mraise\u001b[39;00m \u001b[39mImportError\u001b[39;00m(bit[\u001b[39m\"\u001b[39m\u001b[39merr\u001b[39m\u001b[39m\"\u001b[39m]) \u001b[39mfrom\u001b[39;00m \u001b[39me\u001b[39;00m\n\u001b[1;32m    215\u001b[0m \u001b[39mcls\u001b[39m \u001b[39m=\u001b[39m registry[protocol]\n\u001b[1;32m    216\u001b[0m \u001b[39mif\u001b[39;00m \u001b[39mgetattr\u001b[39m(\u001b[39mcls\u001b[39m, \u001b[39m\"\u001b[39m\u001b[39mprotocol\u001b[39m\u001b[39m\"\u001b[39m, \u001b[39mNone\u001b[39;00m) \u001b[39min\u001b[39;00m (\u001b[39m\"\u001b[39m\u001b[39mabstract\u001b[39m\u001b[39m\"\u001b[39m, \u001b[39mNone\u001b[39;00m):\n",
      "\u001b[0;31mImportError\u001b[0m: Please install gcsfs to access Google Storage"
     ]
    }
   ],
   "source": [
    "model = GraphormerEmbeddingsExtractor()"
   ]
  },
  {
   "cell_type": "code",
   "execution_count": null,
   "metadata": {},
   "outputs": [],
   "source": [
    "smiles = dm.data.freesolv()[\"smiles\"]"
   ]
  },
  {
   "cell_type": "code",
   "execution_count": null,
   "metadata": {},
   "outputs": [
    {
     "name": "stderr",
     "output_type": "stream",
     "text": [
      "                                                                      \r"
     ]
    },
    {
     "data": {
      "text/plain": [
       "tensor([[[-0.0976,  0.0151, -0.0102,  ..., -0.0917, -0.1635, -0.0117],\n",
       "         [-0.1155,  0.0021, -0.0248,  ..., -0.1137, -0.1414, -0.0270],\n",
       "         [-0.1153,  0.0073, -0.0141,  ..., -0.0956, -0.1285, -0.0150],\n",
       "         ...,\n",
       "         [-0.0988,  0.0145, -0.0114,  ..., -0.0931, -0.1587, -0.0131],\n",
       "         [-0.0988,  0.0145, -0.0114,  ..., -0.0931, -0.1587, -0.0131],\n",
       "         [-0.0988,  0.0145, -0.0114,  ..., -0.0931, -0.1587, -0.0131]],\n",
       "\n",
       "        [[-0.1621, -0.0521, -0.0792,  ..., -0.1806, -0.2052, -0.0854],\n",
       "         [-0.0626,  0.0209,  0.0274,  ..., -0.0491, -0.0811, -0.0508],\n",
       "         [-0.0816,  0.0286,  0.0071,  ..., -0.0722, -0.1042, -0.0042],\n",
       "         ...,\n",
       "         [-0.2210, -0.0787, -0.1076,  ..., -0.2219, -0.2384, -0.1159],\n",
       "         [-0.2210, -0.0787, -0.1076,  ..., -0.2219, -0.2384, -0.1159],\n",
       "         [-0.2210, -0.0787, -0.1076,  ..., -0.2219, -0.2384, -0.1159]],\n",
       "\n",
       "        [[-0.1866, -0.0765, -0.1055,  ..., -0.2028, -0.2493, -0.1135],\n",
       "         [-0.0467,  0.0693,  0.0445,  ..., -0.0298, -0.0605,  0.0474],\n",
       "         [-0.0495,  0.0664,  0.0415,  ..., -0.0332, -0.0640,  0.0442],\n",
       "         ...,\n",
       "         [-0.1868, -0.0767, -0.1057,  ..., -0.2035, -0.2492, -0.1137],\n",
       "         [-0.1868, -0.0767, -0.1057,  ..., -0.2035, -0.2492, -0.1137],\n",
       "         [-0.1868, -0.0767, -0.1057,  ..., -0.2035, -0.2492, -0.1137]],\n",
       "\n",
       "        ...,\n",
       "\n",
       "        [[-0.0784,  0.0305,  0.0104,  ..., -0.0684, -0.1003,  0.0108],\n",
       "         [-0.1484,  0.0023, -0.0242,  ..., -0.1312, -0.1408, -0.0263],\n",
       "         [-0.1064,  0.0067, -0.0195,  ..., -0.1026, -0.1353, -0.0213],\n",
       "         ...,\n",
       "         [-0.0782,  0.0314,  0.0107,  ..., -0.0681, -0.1000,  0.0111],\n",
       "         [-0.0782,  0.0314,  0.0107,  ..., -0.0681, -0.1000,  0.0111],\n",
       "         [-0.0782,  0.0314,  0.0107,  ..., -0.0681, -0.1000,  0.0111]],\n",
       "\n",
       "        [[-0.2236, -0.1103, -0.1401,  ..., -0.2390, -0.2971, -0.1507],\n",
       "         [-0.0812, -0.1045, -0.1341,  ..., -0.2321, -0.2701, -0.1443],\n",
       "         [ 0.0461, -0.0847, -0.1138,  ..., -0.2091, -0.2457, -0.1225],\n",
       "         ...,\n",
       "         [-0.2212, -0.1096, -0.1394,  ..., -0.2382, -0.3077, -0.1500],\n",
       "         [-0.2212, -0.1096, -0.1394,  ..., -0.2382, -0.3077, -0.1500],\n",
       "         [-0.2212, -0.1096, -0.1394,  ..., -0.2382, -0.3077, -0.1500]],\n",
       "\n",
       "        [[ 0.5885, -0.1135, -0.1441,  ..., -0.2453, -0.2804, -0.1542],\n",
       "         [-0.1259, -0.0127, -0.0399,  ..., -0.1315, -0.2031, -0.0432],\n",
       "         [-0.1170, -0.0039, -0.0308,  ..., -0.1176, -0.1513, -0.0334],\n",
       "         ...,\n",
       "         [ 0.6120, -0.1123, -0.1426,  ..., -0.2457, -0.2789, -0.1529],\n",
       "         [ 0.6120, -0.1123, -0.1426,  ..., -0.2457, -0.2789, -0.1529],\n",
       "         [ 0.6120, -0.1123, -0.1426,  ..., -0.2457, -0.2789, -0.1529]]])"
      ]
     },
     "execution_count": 5,
     "metadata": {},
     "output_type": "execute_result"
    }
   ],
   "source": [
    "model(smiles)"
   ]
  },
  {
   "cell_type": "code",
   "execution_count": null,
   "metadata": {},
   "outputs": [],
   "source": []
  }
 ],
 "metadata": {
  "interpreter": {
   "hash": "2710f17f0da04493e5fba4801ef6692fc914cfa3a743f704df654b5d0ea8670f"
  },
  "kernelspec": {
   "display_name": "Python 3.8.12",
   "language": "python",
   "name": "python3"
  },
  "language_info": {
   "codemirror_mode": {
    "name": "ipython",
    "version": 3
   },
   "file_extension": ".py",
   "mimetype": "text/x-python",
   "name": "python",
   "nbconvert_exporter": "python",
   "pygments_lexer": "ipython3",
   "version": "3.10.9"
  },
  "orig_nbformat": 4
 },
 "nbformat": 4,
 "nbformat_minor": 2
}
